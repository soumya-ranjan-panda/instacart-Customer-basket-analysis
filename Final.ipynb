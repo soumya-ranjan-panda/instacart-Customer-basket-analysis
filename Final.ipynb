{
 "cells": [
  {
   "cell_type": "code",
   "execution_count": 1,
   "metadata": {
    "colab": {
     "base_uri": "https://localhost:8080/"
    },
    "id": "wqahRRo59Gkt",
    "outputId": "524d6c2d-c454-464e-8be2-cd4300a40674"
   },
   "outputs": [
    {
     "name": "stdout",
     "output_type": "stream",
     "text": [
      "Drive already mounted at /content/drive; to attempt to forcibly remount, call drive.mount(\"/content/drive\", force_remount=True).\n"
     ]
    }
   ],
   "source": [
    "from google.colab import drive\n",
    "drive.mount('/content/drive')\n",
    "%cd /content/drive/MyDrive/Colab Notebooks/Untitled folder/\n",
    "import utility as u\n",
    "import pandas as pd"
   ]
  },
  {
   "cell_type": "code",
   "execution_count": 7,
   "metadata": {
    "id": "rK234BxA9Rg-"
   },
   "outputs": [],
   "source": [
    "def pipeline_output(data):\n",
    "  data=pd.merge(preprocessed_data,data,on=['order_id'])\n",
    "  data=data.drop(['order_id'],axis=1)\n",
    "  y_true=data['reordered']\n",
    "  X=data.drop(['reordered'], axis=1)\n",
    "  pred=loaded_model.predict_proba(X.iloc[:,2:])[:,1:]\n",
    "  return u.predict_output(X,pred)"
   ]
  },
  {
   "cell_type": "code",
   "execution_count": 8,
   "metadata": {
    "id": "I2H3_Wep9vAe"
   },
   "outputs": [],
   "source": [
    "def pipeline_score(data):\n",
    "  data=pd.merge(preprocessed_data,data,on=['order_id'])\n",
    "  data=data.drop(['order_id'],axis=1)\n",
    "  y_true=data['reordered']\n",
    "  X=data.drop(['reordered'], axis=1)\n",
    "  pred=loaded_model.predict_proba(X.iloc[:,2:])[:,1:]\n",
    "  return u.predict_score(X,pred,)"
   ]
  },
  {
   "cell_type": "code",
   "execution_count": 9,
   "metadata": {
    "colab": {
     "base_uri": "https://localhost:8080/",
     "height": 248
    },
    "id": "ZjgIgXzaDG9Z",
    "outputId": "173832ad-7459-47e7-ef79-2d7c54a23f12"
   },
   "outputs": [
    {
     "name": "stderr",
     "output_type": "stream",
     "text": [
      "1000it [00:31, 31.54it/s]\n"
     ]
    },
    {
     "name": "stdout",
     "output_type": "stream",
     "text": [
      "mean_f1_score 0.42783763345162573\n"
     ]
    },
    {
     "name": "stderr",
     "output_type": "stream",
     "text": [
      "1000it [00:32, 30.86it/s]\n"
     ]
    },
    {
     "data": {
      "text/html": [
       "<div>\n",
       "<style scoped>\n",
       "    .dataframe tbody tr th:only-of-type {\n",
       "        vertical-align: middle;\n",
       "    }\n",
       "\n",
       "    .dataframe tbody tr th {\n",
       "        vertical-align: top;\n",
       "    }\n",
       "\n",
       "    .dataframe thead th {\n",
       "        text-align: right;\n",
       "    }\n",
       "</style>\n",
       "<table border=\"1\" class=\"dataframe\">\n",
       "  <thead>\n",
       "    <tr style=\"text-align: right;\">\n",
       "      <th></th>\n",
       "      <th>order_id</th>\n",
       "      <th>products</th>\n",
       "    </tr>\n",
       "  </thead>\n",
       "  <tbody>\n",
       "    <tr>\n",
       "      <th>0</th>\n",
       "      <td>1187899</td>\n",
       "      <td>196 12427 10258 25133 46149 38928 39657</td>\n",
       "    </tr>\n",
       "    <tr>\n",
       "      <th>1</th>\n",
       "      <td>1492625</td>\n",
       "      <td>47209 24852 19156 18523 1559 16589 33754 32792...</td>\n",
       "    </tr>\n",
       "    <tr>\n",
       "      <th>2</th>\n",
       "      <td>2196797</td>\n",
       "      <td>11777 26604 43693 24535 40706</td>\n",
       "    </tr>\n",
       "    <tr>\n",
       "      <th>3</th>\n",
       "      <td>525192</td>\n",
       "      <td>21137 37602 40852 47272 13198 17638 30391 3217...</td>\n",
       "    </tr>\n",
       "    <tr>\n",
       "      <th>4</th>\n",
       "      <td>880375</td>\n",
       "      <td>21903 23165 41540 15937 8193 17794 34358 15143...</td>\n",
       "    </tr>\n",
       "  </tbody>\n",
       "</table>\n",
       "</div>"
      ],
      "text/plain": [
       "   order_id                                           products\n",
       "0   1187899            196 12427 10258 25133 46149 38928 39657\n",
       "1   1492625  47209 24852 19156 18523 1559 16589 33754 32792...\n",
       "2   2196797                      11777 26604 43693 24535 40706\n",
       "3    525192  21137 37602 40852 47272 13198 17638 30391 3217...\n",
       "4    880375  21903 23165 41540 15937 8193 17794 34358 15143..."
      ]
     },
     "execution_count": 9,
     "metadata": {
      "tags": []
     },
     "output_type": "execute_result"
    }
   ],
   "source": [
    "preprocessed_data,loaded_model=u.setup()\n",
    "orders = pd.read_csv('/content/orders.csv')\n",
    "data=orders[orders['eval_set']=='train'][['order_id']][:1000]\n",
    "sub=pipeline_score(data)\n",
    "print('mean_f1_score',sub)\n",
    "sub=pipeline_output(data)\n",
    "sub.head()"
   ]
  },
  {
   "cell_type": "code",
   "execution_count": null,
   "metadata": {
    "id": "Zr8KMyUW9yPW"
   },
   "outputs": [],
   "source": []
  }
 ],
 "metadata": {
  "accelerator": "GPU",
  "colab": {
   "collapsed_sections": [],
   "machine_shape": "hm",
   "name": "Colab_25GBRAM_GPU Techhawa.ipynb",
   "provenance": [],
   "toc_visible": true
  },
  "kernelspec": {
   "display_name": "Python 3",
   "language": "python",
   "name": "python3"
  },
  "language_info": {
   "codemirror_mode": {
    "name": "ipython",
    "version": 3
   },
   "file_extension": ".py",
   "mimetype": "text/x-python",
   "name": "python",
   "nbconvert_exporter": "python",
   "pygments_lexer": "ipython3",
   "version": "3.6.5"
  }
 },
 "nbformat": 4,
 "nbformat_minor": 1
}
