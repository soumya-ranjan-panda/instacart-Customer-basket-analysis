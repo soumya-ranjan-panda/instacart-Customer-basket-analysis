{
 "cells": [
  {
   "cell_type": "code",
   "execution_count": null,
   "metadata": {
    "colab": {
     "base_uri": "https://localhost:8080/"
    },
    "executionInfo": {
     "elapsed": 27689,
     "status": "ok",
     "timestamp": 1609823521944,
     "user": {
      "displayName": "suraj kumar",
      "photoUrl": "",
      "userId": "16149695880264019922"
     },
     "user_tz": -330
    },
    "id": "y06Qf_S72AG1",
    "outputId": "a271502f-8504-4c9d-e1c4-dd4e63a150d0"
   },
   "outputs": [
    {
     "name": "stdout",
     "output_type": "stream",
     "text": [
      "Mounted at /content/gdrive\n"
     ]
    }
   ],
   "source": [
    "from google.colab import drive\n",
    "drive.mount('/content/gdrive')"
   ]
  },
  {
   "cell_type": "code",
   "execution_count": null,
   "metadata": {
    "id": "1rtZh00C2Acg"
   },
   "outputs": [],
   "source": [
    "import os\n",
    "os.environ['KAGGLE_CONFIG_DIR'] = \"/content/gdrive/My Drive/Kaggle\""
   ]
  },
  {
   "cell_type": "code",
   "execution_count": null,
   "metadata": {
    "colab": {
     "base_uri": "https://localhost:8080/"
    },
    "executionInfo": {
     "elapsed": 45565,
     "status": "ok",
     "timestamp": 1609823539953,
     "user": {
      "displayName": "suraj kumar",
      "photoUrl": "",
      "userId": "16149695880264019922"
     },
     "user_tz": -330
    },
    "id": "PFAwpCJS51Xw",
    "outputId": "89fabcd1-6472-4017-9b99-32e7db2a5bb9"
   },
   "outputs": [
    {
     "name": "stdout",
     "output_type": "stream",
     "text": [
      "/content/gdrive/My Drive/Kaggle\n",
      "Warning: Looks like you're using an outdated API Version, please consider updating (server 1.5.10 / client 1.5.4)\n",
      "departments.csv.zip: Skipping, found more recently modified local copy (use --force to force download)\n",
      "sample_submission.csv.zip: Skipping, found more recently modified local copy (use --force to force download)\n",
      "products.csv.zip: Skipping, found more recently modified local copy (use --force to force download)\n",
      "order_products__train.csv.zip: Skipping, found more recently modified local copy (use --force to force download)\n",
      "order_products__prior.csv.zip: Skipping, found more recently modified local copy (use --force to force download)\n",
      "orders.csv.zip: Skipping, found more recently modified local copy (use --force to force download)\n",
      "aisles.csv.zip: Skipping, found more recently modified local copy (use --force to force download)\n",
      "Archive:  products.csv.zip\n",
      "  inflating: /content/products.csv   \n",
      "   creating: /content/__MACOSX/\n",
      "  inflating: /content/__MACOSX/._products.csv  \n",
      "Archive:  orders.csv.zip\n",
      "  inflating: /content/orders.csv     \n",
      "  inflating: /content/__MACOSX/._orders.csv  \n",
      "Archive:  order_products__train.csv.zip\n",
      "  inflating: /content/order_products__train.csv  \n",
      "  inflating: /content/__MACOSX/._order_products__train.csv  \n",
      "Archive:  order_products__prior.csv.zip\n",
      "  inflating: /content/order_products__prior.csv  \n",
      "  inflating: /content/__MACOSX/._order_products__prior.csv  \n",
      "Archive:  aisles.csv.zip\n",
      "  inflating: /content/aisles.csv     \n",
      "  inflating: /content/__MACOSX/._aisles.csv  \n",
      "Archive:  departments.csv.zip\n",
      "  inflating: /content/departments.csv  \n",
      "  inflating: /content/__MACOSX/._departments.csv  \n"
     ]
    }
   ],
   "source": [
    "%cd /content/gdrive/My Drive/Kaggle\n",
    "!kaggle competitions download -c instacart-market-basket-analysis\n",
    "!unzip products.csv.zip -d '/content/'\n",
    "!unzip orders.csv.zip -d '/content/'\n",
    "!unzip order_products__train.csv.zip -d '/content/'\n",
    "!unzip order_products__prior.csv.zip -d '/content/'\n",
    "!unzip aisles.csv.zip -d '/content/'\n",
    "!unzip departments.csv.zip -d '/content/'"
   ]
  },
  {
   "cell_type": "code",
   "execution_count": null,
   "metadata": {
    "id": "-l80V_vr5_rh"
   },
   "outputs": [],
   "source": [
    "#import of liberys\n",
    "import numpy as np\n",
    "import pandas as pd\n",
    "from tqdm import tqdm\n",
    "import warnings\n",
    "warnings.filterwarnings(\"ignore\")\n",
    "import matplotlib.pyplot as plt\n",
    "from collections import Counter\n",
    "import seaborn as sns"
   ]
  },
  {
   "cell_type": "code",
   "execution_count": null,
   "metadata": {
    "colab": {
     "base_uri": "https://localhost:8080/"
    },
    "executionInfo": {
     "elapsed": 9161,
     "status": "ok",
     "timestamp": 1609823553390,
     "user": {
      "displayName": "suraj kumar",
      "photoUrl": "",
      "userId": "16149695880264019922"
     },
     "user_tz": -330
    },
    "id": "VjqjtfvR8i2b",
    "outputId": "631c062b-a396-40ae-d0a2-075a8e72c3ad"
   },
   "outputs": [
    {
     "name": "stdout",
     "output_type": "stream",
     "text": [
      "/content\n"
     ]
    }
   ],
   "source": [
    "#reading all csv files.\n",
    "%cd \"/content\"\n",
    "data_path=\"/content/\"\n",
    "prior_data = pd.read_csv( data_path + 'order_products__prior.csv')\n",
    "train_data = pd.read_csv( data_path + 'order_products__train.csv')\n",
    "orders = pd.read_csv( data_path + 'orders.csv')\n",
    "products=pd.read_csv( data_path + 'products.csv')\n",
    "aisles=pd.read_csv( data_path + 'aisles.csv')\n",
    "departments=pd.read_csv( data_path + 'departments.csv')"
   ]
  },
  {
   "cell_type": "code",
   "execution_count": null,
   "metadata": {
    "id": "7MJBcycj6CgB"
   },
   "outputs": [],
   "source": [
    "#replace nan value in order.csv\n",
    "avg_day_since_prior=orders[orders['days_since_prior_order'].apply(str)!='NaN']\n",
    "avg_day_since_prior=(dict(avg_day_since_prior.groupby('user_id')['days_since_prior_order'].agg(np.median)))\n",
    "for i in range(len(orders)):\n",
    "  if str(orders['days_since_prior_order'][i])=='nan':\n",
    "    orders['days_since_prior_order'].values[i]=avg_day_since_prior[orders['user_id'].values[i]]    "
   ]
  },
  {
   "cell_type": "markdown",
   "metadata": {
    "id": "xTRXDoNp9Ak1"
   },
   "source": [
    "Here I pose this problem as binary classfication problem so,we are creating a data frame consist of<br>\n",
    "    1. user_id\n",
    "    2. product_id(belongs to ordered products by the user_id in history)\n",
    "    3. reordered(will the given product_id is reordered by the given user_id in next order)"
   ]
  },
  {
   "cell_type": "code",
   "execution_count": null,
   "metadata": {
    "id": "qW9klQW98_3I"
   },
   "outputs": [],
   "source": [
    "#first we create a data frame in whice each row belongs to user_id ,product_id(all product borought in past by that user),some feature extracted from prior_dataset"
   ]
  },
  {
   "cell_type": "code",
   "execution_count": null,
   "metadata": {
    "colab": {
     "base_uri": "https://localhost:8080/",
     "height": 194
    },
    "executionInfo": {
     "elapsed": 13105,
     "status": "ok",
     "timestamp": 1608821480650,
     "user": {
      "displayName": "suraj kumar",
      "photoUrl": "",
      "userId": "16149695880264019922"
     },
     "user_tz": -330
    },
    "id": "QnuWT9HA894e",
    "outputId": "e83f0233-4e9c-4949-ecd6-c503c5180679"
   },
   "outputs": [
    {
     "data": {
      "text/html": [
       "<div>\n",
       "<style scoped>\n",
       "    .dataframe tbody tr th:only-of-type {\n",
       "        vertical-align: middle;\n",
       "    }\n",
       "\n",
       "    .dataframe tbody tr th {\n",
       "        vertical-align: top;\n",
       "    }\n",
       "\n",
       "    .dataframe thead th {\n",
       "        text-align: right;\n",
       "    }\n",
       "</style>\n",
       "<table border=\"1\" class=\"dataframe\">\n",
       "  <thead>\n",
       "    <tr style=\"text-align: right;\">\n",
       "      <th></th>\n",
       "      <th>user_id</th>\n",
       "      <th>product_id</th>\n",
       "    </tr>\n",
       "  </thead>\n",
       "  <tbody>\n",
       "    <tr>\n",
       "      <th>0</th>\n",
       "      <td>1</td>\n",
       "      <td>196</td>\n",
       "    </tr>\n",
       "    <tr>\n",
       "      <th>1</th>\n",
       "      <td>1</td>\n",
       "      <td>14084</td>\n",
       "    </tr>\n",
       "    <tr>\n",
       "      <th>2</th>\n",
       "      <td>1</td>\n",
       "      <td>12427</td>\n",
       "    </tr>\n",
       "    <tr>\n",
       "      <th>3</th>\n",
       "      <td>1</td>\n",
       "      <td>26088</td>\n",
       "    </tr>\n",
       "    <tr>\n",
       "      <th>4</th>\n",
       "      <td>1</td>\n",
       "      <td>26405</td>\n",
       "    </tr>\n",
       "  </tbody>\n",
       "</table>\n",
       "</div>"
      ],
      "text/plain": [
       "   user_id  product_id\n",
       "0        1         196\n",
       "1        1       14084\n",
       "2        1       12427\n",
       "3        1       26088\n",
       "4        1       26405"
      ]
     },
     "execution_count": 4,
     "metadata": {
      "tags": []
     },
     "output_type": "execute_result"
    }
   ],
   "source": [
    "#first we create a data frame in whice each row belongs to user_id ,product_id(all product borought in past by that user),some feature extracted from prior_dataset\n",
    "\"\"\"here we are pose this problem as binary classfication problem\n",
    "    so,we are creating a data frame consist of\n",
    "    1. user_id\n",
    "    2. product_id(belongs to ordered products by the user_id in history)\"\"\"\n",
    "users=pd.DataFrame(set(orders[orders['eval_set']=='prior']['user_id']),columns=['user_id'])\n",
    "user_record=pd.merge(orders,users,on='user_id',how='inner')\n",
    "order_product_prior=pd.merge(user_record,prior_data,on='order_id',how='inner')[['user_id','product_id']]\n",
    "final_df=order_product_prior.drop_duplicates(subset=['user_id', 'product_id'], keep='first')\n",
    "final_df.head()"
   ]
  },
  {
   "cell_type": "markdown",
   "metadata": {
    "id": "Lj3IZgyL-5SY"
   },
   "source": [
    "Now we will create some feature such that<br>\n",
    "1.some feature releated to user<br>\n",
    "2.some feature releated to item<br>\n",
    "3.some feature releated to user and item."
   ]
  },
  {
   "cell_type": "markdown",
   "metadata": {
    "id": "jKgg55e0_Uuy"
   },
   "source": [
    "<h3>user and item releated feature:-</h3><br>\n",
    " After research i have found some features that may help us such features are:-<br>\n",
    "\n",
    "1.   nb_times_userA_order_itemB\n",
    "2.   avg_pos_cart_userA_itemB\n",
    "3.   nb_order_userA_itemB_last5\n",
    "4.   median_day_since_prior_order_userA_itemB\n",
    "5.   streak_userA_itemB\n",
    "6.   mean_order_diff_userA_itemB\n",
    "7.   nb_order_userA_not_ordered_itemB\n",
    "8.   difference_mean_order_diff_nb_order_not_ordered_userA_itemB\n",
    "9.   order_ratio_userA_itemB\n",
    "10.   no_order_department_userA_itemB\n",
    "11.   avg_add_to_cart_order_department_userA_itemB\n",
    "12.  no_order_aisle_userA_itemB\n",
    "13.  avg_add_to_cart_order_aisle_userA_itemB\n",
    "\n",
    "\n",
    "\n",
    "\n",
    "\n",
    "\n",
    "\n",
    "\n"
   ]
  },
  {
   "cell_type": "code",
   "execution_count": null,
   "metadata": {
    "colab": {
     "base_uri": "https://localhost:8080/"
    },
    "executionInfo": {
     "elapsed": 1188936,
     "status": "ok",
     "timestamp": 1608822656490,
     "user": {
      "displayName": "suraj kumar",
      "photoUrl": "",
      "userId": "16149695880264019922"
     },
     "user_tz": -330
    },
    "id": "FxHrG7nq60xu",
    "outputId": "1cce1824-5c9f-442e-fb87-7ee01deb1130"
   },
   "outputs": [
    {
     "name": "stderr",
     "output_type": "stream",
     "text": [
      "13307953it [15:28, 14326.62it/s]\n"
     ]
    }
   ],
   "source": [
    "#nb_times_userA_order_itemB feature is calculated\n",
    "user_item=pd.merge(prior_data,orders,on='order_id',how='inner')\n",
    "temp_dict=dict(user_item.groupby(['user_id','product_id'])['user_id'].count())\n",
    "nb_times_userA_order_itemB=[]\n",
    "for idx,row in tqdm(final_df.iterrows()):\n",
    "  temp=temp_dict[(row['user_id'],row['product_id'])]\n",
    "  nb_times_userA_order_itemB.append(temp)\n",
    "final_df['nb_times_userA_order_itemB']=nb_times_userA_order_itemB"
   ]
  },
  {
   "cell_type": "code",
   "execution_count": null,
   "metadata": {
    "colab": {
     "base_uri": "https://localhost:8080/"
    },
    "executionInfo": {
     "elapsed": 1171771,
     "status": "ok",
     "timestamp": 1608823948329,
     "user": {
      "displayName": "suraj kumar",
      "photoUrl": "",
      "userId": "16149695880264019922"
     },
     "user_tz": -330
    },
    "id": "76gPo8CeDDMt",
    "outputId": "3d97ba5a-e5e0-4f17-de26-8a949edaad9d"
   },
   "outputs": [
    {
     "name": "stderr",
     "output_type": "stream",
     "text": [
      "13307953it [15:17, 14500.99it/s]\n"
     ]
    }
   ],
   "source": [
    "#avg_pos_cart_userA_itemB feature is calculated\n",
    "user_item=pd.merge(prior_data,orders,on='order_id',how='inner')\n",
    "temp_dict=dict(user_item.groupby(['user_id','product_id'])['add_to_cart_order'].mean())\n",
    "avg_pos_cart_userA_itemB=[]\n",
    "for idx,row in tqdm(final_df.iterrows()):\n",
    "  temp=temp_dict[(row['user_id'],row['product_id'])]\n",
    "  avg_pos_cart_userA_itemB.append(temp)\n",
    "final_df['avg_pos_cart_userA_itemB']=avg_pos_cart_userA_itemB"
   ]
  },
  {
   "cell_type": "code",
   "execution_count": null,
   "metadata": {
    "colab": {
     "base_uri": "https://localhost:8080/"
    },
    "executionInfo": {
     "elapsed": 880216,
     "status": "ok",
     "timestamp": 1608824910807,
     "user": {
      "displayName": "suraj kumar",
      "photoUrl": "",
      "userId": "16149695880264019922"
     },
     "user_tz": -330
    },
    "id": "jRuvY2D7DKH3",
    "outputId": "71018f75-7cc1-4600-b497-388f3d68cff5"
   },
   "outputs": [
    {
     "name": "stderr",
     "output_type": "stream",
     "text": [
      "13307953it [12:30, 17742.35it/s]\n"
     ]
    }
   ],
   "source": [
    "#nb_order_userA_itemB_last5 feature is calculated\n",
    "recent_order=(orders[orders['eval_set']=='prior']).groupby('user_id').tail(5)\n",
    "recent_user_item=pd.merge(prior_data,recent_order,on='order_id',how='inner')\n",
    "temp_dict=dict(recent_user_item.groupby(['user_id','product_id'])['user_id'].count())\n",
    "nb_order_userA_itemB_last5=[]\n",
    "for idx,row in tqdm(final_df.iterrows()):\n",
    "  try:\n",
    "    temp=temp_dict[(row['user_id'],row['product_id'])]\n",
    "    nb_order_userA_itemB_last5.append(temp)\n",
    "  except KeyError:\n",
    "    nb_order_userA_itemB_last5.append(0)\n",
    "final_df['nb_order_userA_itemB_last5']=nb_order_userA_itemB_last5"
   ]
  },
  {
   "cell_type": "code",
   "execution_count": null,
   "metadata": {
    "colab": {
     "base_uri": "https://localhost:8080/"
    },
    "executionInfo": {
     "elapsed": 1015786,
     "status": "ok",
     "timestamp": 1608826264843,
     "user": {
      "displayName": "suraj kumar",
      "photoUrl": "",
      "userId": "16149695880264019922"
     },
     "user_tz": -330
    },
    "id": "xdrP5GJ4DW8x",
    "outputId": "ffbc1e94-a00b-42bb-f52a-ee5624e32ccb"
   },
   "outputs": [
    {
     "name": "stderr",
     "output_type": "stream",
     "text": [
      "13307953it [12:42, 17453.03it/s]\n"
     ]
    }
   ],
   "source": [
    "#median_day_since_prior_order_userA_itemB feature is calculated\n",
    "user_item=pd.merge(prior_data,orders,on='order_id',how='inner')\n",
    "temp_dict=dict(user_item.groupby(['user_id','product_id'])['days_since_prior_order'].median())\n",
    "median_day_since_prior_order_userA_itemB=[]\n",
    "for idx,row in tqdm(final_df.iterrows()):\n",
    "  temp=temp_dict[(row['user_id'],row['product_id'])]\n",
    "  median_day_since_prior_order_userA_itemB.append(temp)\n",
    "final_df['median_day_since_prior_order_userA_itemB']=median_day_since_prior_order_userA_itemB"
   ]
  },
  {
   "cell_type": "code",
   "execution_count": null,
   "metadata": {
    "id": "lXWePW_cM1dq"
   },
   "outputs": [],
   "source": [
    "# Python3 program to find largest consecutive \n",
    "# numbers present in arr. \n",
    "#https://www.geeksforgeeks.org/maximum-consecutive-numbers-present-array/\n",
    "def find_max_streak(arr): \n",
    "\t'''We insert all the array elements into unordered set.'''\n",
    "\n",
    "\tS = set(arr); \n",
    "\tn=len(arr)\n",
    "\t# check each possible sequence from the start \n",
    "\t# then update optimal length \n",
    "\tans = 0; \n",
    "\tfor i in range(n): \n",
    "\t\t\n",
    "\t\t# if current element is the starting \n",
    "\t\t# element of a sequence \n",
    "\t\tif S.__contains__(arr[i]): \n",
    "\t\t\t\n",
    "\t\t\t# Then check for next elements in the \n",
    "\t\t\t# sequence \n",
    "\t\t\tj = arr[i]; \n",
    "\t\t\t\n",
    "\t\t\t# increment the value of array element \n",
    "\t\t\t# and repeat search in the set \n",
    "\t\t\twhile(S.__contains__(j)): \n",
    "\t\t\t\tj += 1; \n",
    "\n",
    "\t\t\t# Update optimal length if this length \n",
    "\t\t\t# is more. To get the length as it is \n",
    "\t\t\t# incremented one by one \n",
    "\t\t\tans = max(ans, j - arr[i]); \n",
    "\treturn ans; \n"
   ]
  },
  {
   "cell_type": "code",
   "execution_count": null,
   "metadata": {
    "id": "vOndXT-XM3U_"
   },
   "outputs": [],
   "source": [
    "def mean_order_diff(arr):\n",
    "  n=len(arr)\n",
    "  arr=sorted(arr)\n",
    "  temp=[]\n",
    "  for i in range(n-1):\n",
    "    temp.append(arr[i+1]-arr[i])\n",
    "  if len(temp)==0:\n",
    "      return 0.0\n",
    "  return np.mean(temp)"
   ]
  },
  {
   "cell_type": "code",
   "execution_count": null,
   "metadata": {
    "colab": {
     "base_uri": "https://localhost:8080/"
    },
    "executionInfo": {
     "elapsed": 1356610,
     "status": "ok",
     "timestamp": 1608827872619,
     "user": {
      "displayName": "suraj kumar",
      "photoUrl": "",
      "userId": "16149695880264019922"
     },
     "user_tz": -330
    },
    "id": "CTQTu2mXM57i",
    "outputId": "d4f0bd4c-3956-4d9e-decc-49ebb3166a7d"
   },
   "outputs": [
    {
     "name": "stderr",
     "output_type": "stream",
     "text": [
      "13307953it [13:13, 16761.55it/s]\n"
     ]
    }
   ],
   "source": [
    "#streak_userA_itemB feature is calculated\n",
    "user_item=pd.merge(prior_data,orders,on='order_id',how='inner')\n",
    "temp=dict(user_item.groupby(['user_id','product_id'])['order_number'].apply(list))\n",
    "streak_userA_itemB=[]\n",
    "for idx,row in tqdm(final_df.iterrows()):\n",
    "  temp_arr=temp[row['user_id'],row['product_id']]\n",
    "  streak_userA_itemB.append(find_max_streak(temp_arr))\n",
    "final_df['streak_userA_itemB']=streak_userA_itemB"
   ]
  },
  {
   "cell_type": "code",
   "execution_count": null,
   "metadata": {
    "colab": {
     "base_uri": "https://localhost:8080/"
    },
    "executionInfo": {
     "elapsed": 1486521,
     "status": "ok",
     "timestamp": 1608829602346,
     "user": {
      "displayName": "suraj kumar",
      "photoUrl": "",
      "userId": "16149695880264019922"
     },
     "user_tz": -330
    },
    "id": "xh-ynpC1M_Zq",
    "outputId": "5de17afd-8354-4f63-fc5c-d2e695fb8299"
   },
   "outputs": [
    {
     "name": "stderr",
     "output_type": "stream",
     "text": [
      "13307953it [15:20, 14460.87it/s]\n"
     ]
    }
   ],
   "source": [
    "#mean_order_diff_userA_itemB feature is calculated\n",
    "user_item=pd.merge(prior_data,orders,on='order_id',how='inner')[['user_id','product_id','order_number']]\n",
    "temp=dict(user_item.groupby(['user_id','product_id'])['order_number'].apply(list))\n",
    "mean_order_diff_userA_itemB=[]\n",
    "for idx,row in tqdm(final_df.iterrows()):\n",
    "  temp_arr=temp[row['user_id'],row['product_id']]\n",
    "  mean_order_diff_userA_itemB.append(mean_order_diff(temp_arr))\n",
    "final_df['mean_order_diff_userA_itemB']=mean_order_diff_userA_itemB"
   ]
  },
  {
   "cell_type": "code",
   "execution_count": null,
   "metadata": {
    "colab": {
     "base_uri": "https://localhost:8080/"
    },
    "executionInfo": {
     "elapsed": 1297979,
     "status": "ok",
     "timestamp": 1608838976980,
     "user": {
      "displayName": "suraj kumar",
      "photoUrl": "",
      "userId": "16149695880264019922"
     },
     "user_tz": -330
    },
    "id": "3uZ1a7-jNISA",
    "outputId": "a010672e-3191-4ea8-ee6a-1d019dfd7e28"
   },
   "outputs": [
    {
     "name": "stderr",
     "output_type": "stream",
     "text": [
      "13307953it [16:16, 13625.65it/s]\n"
     ]
    }
   ],
   "source": [
    "#nb_order_userA_not_ordered_itemB feature is calculated\n",
    "train_order=orders[orders['eval_set']=='prior']\n",
    "user_item=pd.merge(prior_data,train_order,on='order_id',how='inner')[['user_id','order_number']]\n",
    "last_order_user=dict(user_item.groupby(['user_id'])['order_number'].max())\n",
    "user_item=pd.merge(prior_data,train_order,on='order_id',how='inner')[['user_id','product_id','order_number']]\n",
    "last_order_user_item=dict(user_item.groupby(['user_id','product_id'])['order_number'].max())\n",
    "nb_order_userA_not_ordered_itemB=[]\n",
    "for idx,row in tqdm(final_df.iterrows()):\n",
    "  temp1=last_order_user_item[row['user_id'],row['product_id']]\n",
    "  temp2=last_order_user[row['user_id']]\n",
    "  nb_order_userA_not_ordered_itemB.append(temp2-temp1)\n",
    "final_df['nb_order_userA_not_ordered_itemB']=nb_order_userA_not_ordered_itemB"
   ]
  },
  {
   "cell_type": "code",
   "execution_count": null,
   "metadata": {
    "id": "1Kxhmj3DNKIf"
   },
   "outputs": [],
   "source": [
    "#difference_mean_order_diff_nb_order_not_ordered_userA_itemB feature is calculated\n",
    "def cal_sub_col(row):\n",
    "    return row['mean_order_diff_userA_itemB'] -row['nb_order_userA_not_ordered_itemB']\n",
    "final_df['difference_mean_order_diff_nb_order_not_ordered_userA_itemB'] = final_df.apply(cal_sub_col, axis=1)"
   ]
  },
  {
   "cell_type": "code",
   "execution_count": null,
   "metadata": {
    "id": "9PTpc1lENqFz"
   },
   "outputs": [],
   "source": [
    "#order_ratio_userA_itemB feature is calculated\n",
    "train_order=orders[orders['eval_set']=='prior']\n",
    "user_item=pd.merge(prior_data,train_order,on='order_id',how='inner')[['user_id','order_number']]\n",
    "last_order_user=dict(user_item.groupby(['user_id'])['order_number'].max())\n",
    "user_item=pd.merge(prior_data,train_order,on='order_id',how='inner')[['user_id','product_id','order_number']]\n",
    "last_order_user_item=dict(user_item.groupby(['user_id','product_id'])['order_number'].max())\n",
    "def order_ratio(row):\n",
    "  return row['nb_times_userA_order_itemB']/last_order_user[row['user_id']]\n",
    "final_df['order_ratio_userA_itemB'] = final_df.apply(order_ratio, axis=1)"
   ]
  },
  {
   "cell_type": "code",
   "execution_count": null,
   "metadata": {
    "id": "OE17LOqYNtnq"
   },
   "outputs": [],
   "source": [
    "#no_order_aisle_userA_itemB and avg_add_to_cart_order_aisle_userA_itemB feature is calculated\n",
    "data=orders[orders['eval_set']=='prior']\n",
    "data=pd.merge(data,prior_data,on='order_id',how='inner')\n",
    "data=pd.merge(data,products,on='product_id',how='inner')\n",
    "data=pd.merge(data,aisles,on='aisle_id',how='inner')\n",
    "final_df=pd.merge(final_df,products[['product_id','aisle_id']],on='product_id',how='inner')\n",
    "\n",
    "no_order_aisle_userA_itemB=data.groupby(['user_id','aisle_id'])['product_id'].count().reset_index(name='no_order_aisle_userA_itemB')\n",
    "final_df=pd.merge(final_df,no_order_aisle_userA_itemB,on=['user_id','aisle_id'],how='inner')\n",
    "avg_add_to_cart_order_aisle_userA_itemB=data.groupby(['user_id','aisle_id'])['add_to_cart_order'].mean().reset_index(name='avg_add_to_cart_order_aisle_userA_itemB')\n",
    "final_df=pd.merge(final_df,avg_add_to_cart_order_aisle_userA_itemB,on=['user_id','aisle_id'],how='inner')\n",
    "final_df=final_df.drop(['aisle_id'], axis=1)"
   ]
  },
  {
   "cell_type": "code",
   "execution_count": null,
   "metadata": {
    "id": "26dq1jvDN15B"
   },
   "outputs": [],
   "source": [
    "#no_order_department_userA_itemB and avg_add_to_cart_order_department_userA_itemB feature is calculated\n",
    "data=orders[orders['eval_set']=='prior']\n",
    "data=pd.merge(data,prior_data,on='order_id',how='inner')\n",
    "data=pd.merge(data,products,on='product_id',how='inner')\n",
    "data=pd.merge(data,departments,on='department_id',how='inner')\n",
    "final_df=pd.merge(final_df,products[['product_id','department_id']],on='product_id',how='inner')\n",
    "no_order_department_userA_itemB=data.groupby(['user_id','department_id'])['product_id'].count().reset_index(name='no_order_department_userA_itemB')\n",
    "final_df=pd.merge(final_df,no_order_department_userA_itemB,on=['user_id','department_id'],how='inner')\n",
    "avg_add_to_cart_order_department_userA_itemB=data.groupby(['user_id','department_id'])['add_to_cart_order'].mean().reset_index(name='avg_add_to_cart_order_department_userA_itemB')\n",
    "final_df=pd.merge(final_df,avg_add_to_cart_order_department_userA_itemB,on=['user_id','department_id'],how='inner')\n",
    "final_df=final_df.drop(['department_id'], axis=1)"
   ]
  },
  {
   "cell_type": "code",
   "execution_count": null,
   "metadata": {
    "id": "-6EzlccYdUbD"
   },
   "outputs": [],
   "source": [
    "final_df.to_csv('/content/gdrive/MyDrive/Colab Notebooks/Untitled folder/data/final_df.csv', index=False,header=True)"
   ]
  },
  {
   "cell_type": "code",
   "execution_count": null,
   "metadata": {
    "id": "D7OM5NLucxzZ"
   },
   "outputs": [],
   "source": [
    "final_df=pd.read_csv('/content/gdrive/MyDrive/Colab Notebooks/Untitled folder/data/final_df.csv')"
   ]
  },
  {
   "cell_type": "code",
   "execution_count": null,
   "metadata": {
    "colab": {
     "base_uri": "https://localhost:8080/",
     "height": 214
    },
    "executionInfo": {
     "elapsed": 23105,
     "status": "ok",
     "timestamp": 1608911803264,
     "user": {
      "displayName": "suraj kumar",
      "photoUrl": "",
      "userId": "16149695880264019922"
     },
     "user_tz": -330
    },
    "id": "2KZe0Zdlc1Uk",
    "outputId": "6bfbbf77-5d51-4a91-f98e-97f4f3cf6e70"
   },
   "outputs": [
    {
     "data": {
      "text/html": [
       "<div>\n",
       "<style scoped>\n",
       "    .dataframe tbody tr th:only-of-type {\n",
       "        vertical-align: middle;\n",
       "    }\n",
       "\n",
       "    .dataframe tbody tr th {\n",
       "        vertical-align: top;\n",
       "    }\n",
       "\n",
       "    .dataframe thead th {\n",
       "        text-align: right;\n",
       "    }\n",
       "</style>\n",
       "<table border=\"1\" class=\"dataframe\">\n",
       "  <thead>\n",
       "    <tr style=\"text-align: right;\">\n",
       "      <th></th>\n",
       "      <th>user_id</th>\n",
       "      <th>product_id</th>\n",
       "      <th>nb_times_userA_order_itemB</th>\n",
       "      <th>avg_pos_cart_userA_itemB</th>\n",
       "      <th>nb_order_userA_itemB_last5</th>\n",
       "      <th>median_day_since_prior_order_userA_itemB</th>\n",
       "      <th>streak_userA_itemB</th>\n",
       "      <th>mean_order_diff_userA_itemB</th>\n",
       "      <th>nb_order_userA_not_ordered_itemB</th>\n",
       "      <th>difference_mean_order_diff_nb_order_not_ordered_userA_itemB</th>\n",
       "      <th>order_ratio_userA_itemB</th>\n",
       "      <th>no_order_aisle_userA_itemB</th>\n",
       "      <th>avg_add_to_cart_order_aisle_userA_itemB</th>\n",
       "      <th>no_order_department_userA_itemB</th>\n",
       "      <th>avg_add_to_cart_order_department_userA_itemB</th>\n",
       "    </tr>\n",
       "  </thead>\n",
       "  <tbody>\n",
       "    <tr>\n",
       "      <th>0</th>\n",
       "      <td>1</td>\n",
       "      <td>196</td>\n",
       "      <td>10</td>\n",
       "      <td>1.400000</td>\n",
       "      <td>5</td>\n",
       "      <td>19.5</td>\n",
       "      <td>10</td>\n",
       "      <td>1.00</td>\n",
       "      <td>0</td>\n",
       "      <td>1.00</td>\n",
       "      <td>1.000000</td>\n",
       "      <td>13</td>\n",
       "      <td>1.769231</td>\n",
       "      <td>13</td>\n",
       "      <td>1.769231</td>\n",
       "    </tr>\n",
       "    <tr>\n",
       "      <th>1</th>\n",
       "      <td>1</td>\n",
       "      <td>46149</td>\n",
       "      <td>3</td>\n",
       "      <td>3.000000</td>\n",
       "      <td>3</td>\n",
       "      <td>14.0</td>\n",
       "      <td>3</td>\n",
       "      <td>1.00</td>\n",
       "      <td>0</td>\n",
       "      <td>1.00</td>\n",
       "      <td>0.300000</td>\n",
       "      <td>13</td>\n",
       "      <td>1.769231</td>\n",
       "      <td>13</td>\n",
       "      <td>1.769231</td>\n",
       "    </tr>\n",
       "    <tr>\n",
       "      <th>2</th>\n",
       "      <td>15</td>\n",
       "      <td>196</td>\n",
       "      <td>5</td>\n",
       "      <td>2.200000</td>\n",
       "      <td>3</td>\n",
       "      <td>7.0</td>\n",
       "      <td>2</td>\n",
       "      <td>1.75</td>\n",
       "      <td>0</td>\n",
       "      <td>1.75</td>\n",
       "      <td>0.227273</td>\n",
       "      <td>9</td>\n",
       "      <td>2.333333</td>\n",
       "      <td>20</td>\n",
       "      <td>2.400000</td>\n",
       "    </tr>\n",
       "    <tr>\n",
       "      <th>3</th>\n",
       "      <td>15</td>\n",
       "      <td>30292</td>\n",
       "      <td>1</td>\n",
       "      <td>3.000000</td>\n",
       "      <td>0</td>\n",
       "      <td>17.0</td>\n",
       "      <td>1</td>\n",
       "      <td>0.00</td>\n",
       "      <td>17</td>\n",
       "      <td>-17.00</td>\n",
       "      <td>0.045455</td>\n",
       "      <td>9</td>\n",
       "      <td>2.333333</td>\n",
       "      <td>20</td>\n",
       "      <td>2.400000</td>\n",
       "    </tr>\n",
       "    <tr>\n",
       "      <th>4</th>\n",
       "      <td>15</td>\n",
       "      <td>48142</td>\n",
       "      <td>3</td>\n",
       "      <td>2.333333</td>\n",
       "      <td>1</td>\n",
       "      <td>7.0</td>\n",
       "      <td>1</td>\n",
       "      <td>7.00</td>\n",
       "      <td>1</td>\n",
       "      <td>6.00</td>\n",
       "      <td>0.136364</td>\n",
       "      <td>9</td>\n",
       "      <td>2.333333</td>\n",
       "      <td>20</td>\n",
       "      <td>2.400000</td>\n",
       "    </tr>\n",
       "  </tbody>\n",
       "</table>\n",
       "</div>"
      ],
      "text/plain": [
       "   user_id  ...  avg_add_to_cart_order_department_userA_itemB\n",
       "0        1  ...                                      1.769231\n",
       "1        1  ...                                      1.769231\n",
       "2       15  ...                                      2.400000\n",
       "3       15  ...                                      2.400000\n",
       "4       15  ...                                      2.400000\n",
       "\n",
       "[5 rows x 15 columns]"
      ]
     },
     "execution_count": 8,
     "metadata": {
      "tags": []
     },
     "output_type": "execute_result"
    }
   ],
   "source": [
    "final_df.head()"
   ]
  },
  {
   "cell_type": "markdown",
   "metadata": {
    "id": "_PX5j3M6qf1T"
   },
   "source": [
    "<h2>product releated feature:-</h2><br>\n",
    "After research i have found some features that may help us such features are:-<br>\n",
    "\n",
    "\n",
    "\n",
    "\n",
    "1.   no_of_times_ordered_itemA\n",
    "2.   no_of_times_reordered_itemA\n",
    "3.   no_of_user_ordered_itemA\n",
    "4.   avg_cart_pos_itemA\n",
    "5.   avg_order_dow_itemA\n",
    "6.   avg_order_hour_of_day_itemA\n",
    "7.   avg_days_since_prior_order_itemA\n",
    "8.   no_of_user_order_aisle_itemA\n",
    "9.   nb_order_aisle_itemA\n",
    "10.  nb_reorder_aisle_itemA\n",
    "11.  mean_add_to_cart_order_of_aisle_itemA\n",
    "12.  no_of_user_order_department_itemA\n",
    "13.  nb_order_department_itemA\n",
    "14.  nb_reorder_department_itemA\n",
    "15.  mean_add_to_cart_order_of_department_itemA\n",
    "\n",
    "\n",
    "\n"
   ]
  },
  {
   "cell_type": "code",
   "execution_count": null,
   "metadata": {
    "colab": {
     "base_uri": "https://localhost:8080/"
    },
    "executionInfo": {
     "elapsed": 151669,
     "status": "ok",
     "timestamp": 1608914376242,
     "user": {
      "displayName": "suraj kumar",
      "photoUrl": "",
      "userId": "16149695880264019922"
     },
     "user_tz": -330
    },
    "id": "j8986twudu8f",
    "outputId": "3ca08ada-cde5-42c5-e982-bbfe00e5a39a"
   },
   "outputs": [
    {
     "name": "stderr",
     "output_type": "stream",
     "text": [
      "100%|██████████| 49677/49677 [02:02<00:00, 407.14it/s]\n"
     ]
    }
   ],
   "source": [
    "#Here we calculated some product releated feture(i.e 1 to 8) for each product_id in prior dataset\n",
    "nb_order=dict(prior_data.groupby('product_id').size())\n",
    "nb_reordered=prior_data[prior_data['reordered']==1]\n",
    "nb_reordered=dict(nb_reordered.groupby('product_id').size())\n",
    "product_ids=set(prior_data['product_id'])\n",
    "avg_cart_pos=dict(prior_data.groupby('product_id')['add_to_cart_order'].median().round().apply(int))\n",
    "prior_order=pd.merge(prior_data,orders,on='order_id',how='inner')\n",
    "product_order_dow=dict(prior_order.groupby('product_id')['order_dow'].median().round().apply(int))\n",
    "product_order_hour_of_day=dict(prior_order.groupby('product_id')['order_hour_of_day'].median().round().apply(int))\n",
    "product_days_since_prior_order=dict(prior_order.groupby('product_id')['days_since_prior_order'].median().round().apply(int))\n",
    "no_of_user_order=dict(prior_order.groupby(['product_id'])['user_id'].apply(set))\n",
    "product_df=pd.DataFrame(columns=['product_id','no_of_times_ordered_itemA','no_of_times_reordered_itemA','no_of_user_ordered_itemA','avg_cart_pos_itemA','avg_order_dow_itemA','avg_order_hour_of_day_itemA','avg_days_since_prior_order_itemA'])\n",
    "for i in tqdm(product_ids):\n",
    "  if nb_reordered.get(i) is not None:\n",
    "    product_df=product_df.append({'product_id':i,'no_of_times_ordered_itemA':nb_order.get(i),'no_of_times_reordered_itemA':nb_reordered.get(i),'no_of_user_ordered_itemA':len(no_of_user_order.get(i)),'avg_cart_pos_itemA':avg_cart_pos.get(i),'avg_order_dow_itemA':product_order_dow.get(i),'avg_order_hour_of_day_itemA':product_order_hour_of_day.get(i),'avg_days_since_prior_order_itemA':product_days_since_prior_order.get(i)},ignore_index=True)\n",
    "  else:\n",
    "    product_df=product_df.append({'product_id':i,'no_of_times_ordered_itemA':nb_order.get(i),'no_of_times_reordered_itemA':0,'no_of_user_ordered_itemA':len(no_of_user_order.get(i)),'avg_cart_pos_itemA':avg_cart_pos.get(i),'avg_order_dow_itemA':product_order_dow.get(i),'avg_order_hour_of_day_itemA':product_order_hour_of_day.get(i),'avg_days_since_prior_order_itemA':product_days_since_prior_order.get(i)},ignore_index=True)"
   ]
  },
  {
   "cell_type": "code",
   "execution_count": null,
   "metadata": {
    "id": "zxZWeM9qninE"
   },
   "outputs": [],
   "source": [
    "product_df.to_csv('/content/gdrive/MyDrive/Colab Notebooks/Untitled folder/data/product_df.csv', index=False,header=True)"
   ]
  },
  {
   "cell_type": "code",
   "execution_count": null,
   "metadata": {
    "colab": {
     "base_uri": "https://localhost:8080/"
    },
    "executionInfo": {
     "elapsed": 36019,
     "status": "ok",
     "timestamp": 1608919961600,
     "user": {
      "displayName": "suraj kumar",
      "photoUrl": "",
      "userId": "16149695880264019922"
     },
     "user_tz": -330
    },
    "id": "FsOqavDSoSWI",
    "outputId": "7e264c34-9201-447b-fbf5-13cfdef767c7"
   },
   "outputs": [
    {
     "name": "stderr",
     "output_type": "stream",
     "text": [
      "100%|██████████| 134/134 [00:00<00:00, 713.63it/s]\n"
     ]
    }
   ],
   "source": [
    "#Here we calculated some product releated feture with respect to products aisle\n",
    "data=orders[orders['eval_set']=='prior']\n",
    "data=pd.merge(data,prior_data,on='order_id',how='inner')\n",
    "data=pd.merge(data,products,on='product_id',how='inner')\n",
    "data=pd.merge(data,aisles,on='aisle_id',how='inner')\n",
    "nb_order_asile=dict(data.groupby('aisle_id').size())\n",
    "mean_add_to_cart_order_of_aisle=dict(data.groupby('aisle_id')['add_to_cart_order'].mean())\n",
    "reorder_data=data[data['reordered']==1]\n",
    "nb_reorder_asile=dict(reorder_data.groupby('aisle_id').size())\n",
    "no_of_user_order_aisle_itemA=dict(data.groupby(['aisle_id'])['user_id'].apply(set))\n",
    "aisle_ids=set(data['aisle_id'])\n",
    "aisles_df=pd.DataFrame(columns=['aisle_id','no_of_user_order_aisle_itemA','nb_order_aisle_itemA','nb_reorder_aisle_itemA','mean_add_to_cart_order_of_aisle_itemA'])\n",
    "for i in tqdm(aisle_ids):\n",
    "    aisles_df=aisles_df.append({'aisle_id':i,'no_of_user_order_aisle_itemA':len(no_of_user_order_aisle_itemA.get(i)),'nb_order_aisle_itemA':nb_order_asile.get(i),'nb_reorder_aisle_itemA':nb_reorder_asile.get(i),'mean_add_to_cart_order_of_aisle_itemA':mean_add_to_cart_order_of_aisle.get(i)},ignore_index=True)\n"
   ]
  },
  {
   "cell_type": "code",
   "execution_count": null,
   "metadata": {
    "id": "nGaTrAAyo8wQ"
   },
   "outputs": [],
   "source": [
    "aisles_df.to_csv('/content/gdrive/MyDrive/Colab Notebooks/Untitled folder/data/aisles_df.csv', index=False,header=True)"
   ]
  },
  {
   "cell_type": "code",
   "execution_count": null,
   "metadata": {
    "colab": {
     "base_uri": "https://localhost:8080/"
    },
    "executionInfo": {
     "elapsed": 45858,
     "status": "ok",
     "timestamp": 1608920710081,
     "user": {
      "displayName": "suraj kumar",
      "photoUrl": "",
      "userId": "16149695880264019922"
     },
     "user_tz": -330
    },
    "id": "oY6iMJI9pknk",
    "outputId": "f6b26b65-3798-4169-9c9f-4197931eb46b"
   },
   "outputs": [
    {
     "name": "stderr",
     "output_type": "stream",
     "text": [
      "100%|██████████| 21/21 [00:00<00:00, 194.81it/s]\n"
     ]
    }
   ],
   "source": [
    "#Here we calculated some product releated feture with respect to products department\n",
    "data=orders[orders['eval_set']=='prior']\n",
    "data=pd.merge(data,prior_data,on='order_id',how='inner')\n",
    "data=pd.merge(data,products,on='product_id',how='inner')\n",
    "data=pd.merge(data,departments,on='department_id',how='inner')\n",
    "nb_order_department=dict(data.groupby('department_id').size())\n",
    "mean_add_to_cart_order_of_department=dict(data.groupby('department_id')['add_to_cart_order'].mean())\n",
    "reorder_data=data[data['reordered']==1]\n",
    "nb_reorder_department=dict(reorder_data.groupby('department_id').size())\n",
    "no_of_user_order_department_itemA=dict(data.groupby(['aisle_id'])['user_id'].apply(set))\n",
    "department_ids=set(data['department_id'])\n",
    "department_df=pd.DataFrame(columns=['department_id','no_of_user_order_department_itemA','nb_order_department_itemA','nb_reorder_department_itemA','mean_add_to_cart_order_of_department_itemA'])\n",
    "for i in tqdm(department_ids):\n",
    "    department_df=department_df.append({'department_id':i,\"no_of_user_order_department_itemA\":len(no_of_user_order_department_itemA.get(i)),'nb_order_department_itemA':nb_order_department.get(i),'nb_reorder_department_itemA':nb_reorder_department.get(i),'mean_add_to_cart_order_of_department_itemA':mean_add_to_cart_order_of_department.get(i)},ignore_index=True)\n"
   ]
  },
  {
   "cell_type": "code",
   "execution_count": null,
   "metadata": {
    "id": "QSr9451vpp4K"
   },
   "outputs": [],
   "source": [
    "department_df.to_csv('/content/gdrive/MyDrive/Colab Notebooks/Untitled folder/data/department_df.csv', index=False,header=True)"
   ]
  },
  {
   "cell_type": "code",
   "execution_count": null,
   "metadata": {
    "id": "qTznKciAqBb3"
   },
   "outputs": [],
   "source": [
    "#Here we merge product, products aisle and products department into one dataframe product df\n",
    "product_df=pd.read_csv('/content/gdrive/MyDrive/Colab Notebooks/Untitled folder/data/product_df.csv')\n",
    "aisles_df=pd.read_csv('/content/gdrive/MyDrive/Colab Notebooks/Untitled folder/data/aisles_df.csv')\n",
    "department_df=pd.read_csv('/content/gdrive/MyDrive/Colab Notebooks/Untitled folder/data/department_df.csv')\n",
    "product_df=pd.merge(product_df,products,on='product_id',how='inner')\n",
    "product_df=pd.merge(product_df,aisles_df,on='aisle_id',how='inner')\n",
    "product_df=pd.merge(product_df,department_df,on='department_id',how='inner')\n",
    "product_df=product_df.drop(['product_name', 'aisle_id','department_id'], axis=1)"
   ]
  },
  {
   "cell_type": "code",
   "execution_count": null,
   "metadata": {
    "id": "Yi_qTpodqX8N"
   },
   "outputs": [],
   "source": [
    "product_df.to_csv('/content/gdrive/MyDrive/Colab Notebooks/Untitled folder/data/product_df.csv', index=False,header=True)\n",
    "product_df.head()"
   ]
  },
  {
   "cell_type": "code",
   "execution_count": null,
   "metadata": {
    "colab": {
     "base_uri": "https://localhost:8080/",
     "height": 214
    },
    "executionInfo": {
     "elapsed": 1080,
     "status": "ok",
     "timestamp": 1608921012313,
     "user": {
      "displayName": "suraj kumar",
      "photoUrl": "",
      "userId": "16149695880264019922"
     },
     "user_tz": -330
    },
    "id": "Y7TkC8FoJpub",
    "outputId": "bda9d7f6-f151-4216-b827-9eeb9e6e50d6"
   },
   "outputs": [
    {
     "data": {
      "text/html": [
       "<div>\n",
       "<style scoped>\n",
       "    .dataframe tbody tr th:only-of-type {\n",
       "        vertical-align: middle;\n",
       "    }\n",
       "\n",
       "    .dataframe tbody tr th {\n",
       "        vertical-align: top;\n",
       "    }\n",
       "\n",
       "    .dataframe thead th {\n",
       "        text-align: right;\n",
       "    }\n",
       "</style>\n",
       "<table border=\"1\" class=\"dataframe\">\n",
       "  <thead>\n",
       "    <tr style=\"text-align: right;\">\n",
       "      <th></th>\n",
       "      <th>product_id</th>\n",
       "      <th>no_of_times_ordered_itemA</th>\n",
       "      <th>no_of_times_reordered_itemA</th>\n",
       "      <th>no_of_user_ordered_itemA</th>\n",
       "      <th>avg_cart_pos_itemA</th>\n",
       "      <th>avg_order_dow_itemA</th>\n",
       "      <th>avg_order_hour_of_day_itemA</th>\n",
       "      <th>avg_days_since_prior_order_itemA</th>\n",
       "      <th>no_of_user_order_aisle_itemA</th>\n",
       "      <th>nb_order_aisle_itemA</th>\n",
       "      <th>nb_reorder_aisle_itemA</th>\n",
       "      <th>mean_add_to_cart_order_of_aisle_itemA</th>\n",
       "      <th>no_of_user_order_department_itemA</th>\n",
       "      <th>nb_order_department_itemA</th>\n",
       "      <th>nb_reorder_department_itemA</th>\n",
       "      <th>mean_add_to_cart_order_of_department_itemA</th>\n",
       "    </tr>\n",
       "  </thead>\n",
       "  <tbody>\n",
       "    <tr>\n",
       "      <th>0</th>\n",
       "      <td>1</td>\n",
       "      <td>1852</td>\n",
       "      <td>1136</td>\n",
       "      <td>716</td>\n",
       "      <td>4</td>\n",
       "      <td>3</td>\n",
       "      <td>13</td>\n",
       "      <td>7</td>\n",
       "      <td>54202.0</td>\n",
       "      <td>234065.0</td>\n",
       "      <td>128431.0</td>\n",
       "      <td>9.253092</td>\n",
       "      <td>85602.0</td>\n",
       "      <td>2887550.0</td>\n",
       "      <td>1657973.0</td>\n",
       "      <td>9.187743</td>\n",
       "    </tr>\n",
       "    <tr>\n",
       "      <th>1</th>\n",
       "      <td>78</td>\n",
       "      <td>11</td>\n",
       "      <td>3</td>\n",
       "      <td>8</td>\n",
       "      <td>13</td>\n",
       "      <td>2</td>\n",
       "      <td>14</td>\n",
       "      <td>18</td>\n",
       "      <td>54202.0</td>\n",
       "      <td>234065.0</td>\n",
       "      <td>128431.0</td>\n",
       "      <td>9.253092</td>\n",
       "      <td>85602.0</td>\n",
       "      <td>2887550.0</td>\n",
       "      <td>1657973.0</td>\n",
       "      <td>9.187743</td>\n",
       "    </tr>\n",
       "    <tr>\n",
       "      <th>2</th>\n",
       "      <td>102</td>\n",
       "      <td>185</td>\n",
       "      <td>35</td>\n",
       "      <td>150</td>\n",
       "      <td>4</td>\n",
       "      <td>3</td>\n",
       "      <td>12</td>\n",
       "      <td>8</td>\n",
       "      <td>54202.0</td>\n",
       "      <td>234065.0</td>\n",
       "      <td>128431.0</td>\n",
       "      <td>9.253092</td>\n",
       "      <td>85602.0</td>\n",
       "      <td>2887550.0</td>\n",
       "      <td>1657973.0</td>\n",
       "      <td>9.187743</td>\n",
       "    </tr>\n",
       "    <tr>\n",
       "      <th>3</th>\n",
       "      <td>172</td>\n",
       "      <td>97</td>\n",
       "      <td>71</td>\n",
       "      <td>26</td>\n",
       "      <td>3</td>\n",
       "      <td>2</td>\n",
       "      <td>12</td>\n",
       "      <td>3</td>\n",
       "      <td>54202.0</td>\n",
       "      <td>234065.0</td>\n",
       "      <td>128431.0</td>\n",
       "      <td>9.253092</td>\n",
       "      <td>85602.0</td>\n",
       "      <td>2887550.0</td>\n",
       "      <td>1657973.0</td>\n",
       "      <td>9.187743</td>\n",
       "    </tr>\n",
       "    <tr>\n",
       "      <th>4</th>\n",
       "      <td>285</td>\n",
       "      <td>156</td>\n",
       "      <td>56</td>\n",
       "      <td>100</td>\n",
       "      <td>8</td>\n",
       "      <td>3</td>\n",
       "      <td>13</td>\n",
       "      <td>11</td>\n",
       "      <td>54202.0</td>\n",
       "      <td>234065.0</td>\n",
       "      <td>128431.0</td>\n",
       "      <td>9.253092</td>\n",
       "      <td>85602.0</td>\n",
       "      <td>2887550.0</td>\n",
       "      <td>1657973.0</td>\n",
       "      <td>9.187743</td>\n",
       "    </tr>\n",
       "  </tbody>\n",
       "</table>\n",
       "</div>"
      ],
      "text/plain": [
       "   product_id  ...  mean_add_to_cart_order_of_department_itemA\n",
       "0           1  ...                                    9.187743\n",
       "1          78  ...                                    9.187743\n",
       "2         102  ...                                    9.187743\n",
       "3         172  ...                                    9.187743\n",
       "4         285  ...                                    9.187743\n",
       "\n",
       "[5 rows x 16 columns]"
      ]
     },
     "execution_count": 5,
     "metadata": {
      "tags": []
     },
     "output_type": "execute_result"
    }
   ],
   "source": [
    "product_df=pd.read_csv('/content/gdrive/MyDrive/Colab Notebooks/Untitled folder/data/product_df.csv')\n",
    "product_df.head()"
   ]
  },
  {
   "cell_type": "code",
   "execution_count": null,
   "metadata": {
    "id": "LLktGNFzhKmI"
   },
   "outputs": [],
   "source": []
  },
  {
   "cell_type": "markdown",
   "metadata": {
    "id": "V-SChkPXhLLJ"
   },
   "source": [
    "<h3>User related feature:-</h3><br>\n",
    "\n",
    "\n",
    "1.   no_of_order_by_user\n",
    "2.   avg_order_size_of_user\n",
    "3.   no_of_item_ordered_user\n",
    "4.   no_of_item_reordered_user\n",
    "5.   avg_overall_reorder_rate_user\n",
    "6.   avg_day_between_orders_of_user\n",
    "7.   median_hour_of_day_user_visit\n",
    "8.   median_order_dow_user\n",
    "9.   avg_reordered_rate_per_order_user\n",
    "\n"
   ]
  },
  {
   "cell_type": "code",
   "execution_count": null,
   "metadata": {
    "id": "JMt56d9kKlOd"
   },
   "outputs": [],
   "source": [
    "#Here we calculated user releated feture for each user_id in prior dataset\n",
    "user_ids=set(orders[orders['eval_set']=='prior']['user_id'])\n",
    "nb_orders_user=dict(orders[orders['eval_set']=='prior'].groupby('user_id').size())\n",
    "order_prior=pd.merge(orders,prior_data,on='order_id',how='inner')\n",
    "nb_reorder1=dict(order_prior.groupby('user_id').size())\n",
    "nb_reorder2=order_prior[order_prior['reordered']==1]\n",
    "nb_reorder2=dict(nb_reorder2.groupby('user_id').size())\n",
    "agv_day_between_order_user=dict(orders[orders['eval_set']=='prior'].groupby('user_id')['days_since_prior_order'].mean())\n",
    "avg_time_day_user=dict(orders[orders['eval_set']=='prior'].groupby('user_id')['order_hour_of_day'].median())\n",
    "median_order_dow_user=dict(orders[orders['eval_set']=='prior'].groupby('user_id')['order_dow'].median())\n",
    "avg_reordered_rate_per_order_user=pd.merge(prior_data,orders,on='order_id',how='inner')\n",
    "avg_reordered_rate_per_order_user=avg_reordered_rate_per_order_user.groupby(['user_id','order_id'])['reordered'].mean().reset_index(name='count')\n",
    "avg_reordered_rate_per_order_user=dict(avg_reordered_rate_per_order_user.groupby('user_id')['count'].mean())"
   ]
  },
  {
   "cell_type": "code",
   "execution_count": null,
   "metadata": {
    "colab": {
     "base_uri": "https://localhost:8080/"
    },
    "executionInfo": {
     "elapsed": 554479,
     "status": "ok",
     "timestamp": 1608922771865,
     "user": {
      "displayName": "suraj kumar",
      "photoUrl": "",
      "userId": "16149695880264019922"
     },
     "user_tz": -330
    },
    "id": "obK2KZmXPCEu",
    "outputId": "27da318a-19c5-409b-f8a5-cc0582da2a0c"
   },
   "outputs": [
    {
     "name": "stderr",
     "output_type": "stream",
     "text": [
      "100%|██████████| 206209/206209 [09:05<00:00, 378.32it/s]\n"
     ]
    }
   ],
   "source": [
    "user_df=pd.DataFrame(columns=['user_id','no_of_order_by_user','avg_order_size_of_user','no_of_item_ordered_user','no_of_item_reordered_user','avg_overall_reorder_rate_user','avg_day_between_orders_of_user','median_hour_of_day_user_visit','median_order_dow_user','avg_reordered_rate_per_order_user'])\n",
    "for i in tqdm(user_ids):\n",
    "  if nb_reorder2.get(i) is not None:\n",
    "    user_df=user_df.append({'user_id':i,'no_of_order_by_user':nb_orders_user.get(i),'avg_order_size_of_user':nb_reorder1.get(i)/nb_orders_user.get(i),'no_of_item_ordered_user':nb_reorder1.get(i),'no_of_item_reordered_user':nb_reorder2.get(i),'avg_overall_reorder_rate_user':float(nb_reorder2.get(i)/nb_reorder1.get(i)),'avg_day_between_orders_of_user':agv_day_between_order_user.get(i),'median_hour_of_day_user_visit':avg_time_day_user.get(i),'median_order_dow_user':median_order_dow_user.get(i),\"avg_reordered_rate_per_order_user\":avg_reordered_rate_per_order_user.get(i)},ignore_index=True)\n",
    "  else:\n",
    "    user_df=user_df.append({'user_id':i,'no_of_order_by_user':nb_orders_user.get(i),'avg_order_size_of_user':nb_reorder1.get(i)/nb_orders_user.get(i),'no_of_item_ordered_user':nb_reorder1.get(i),\"no_of_item_reordered_user\":0,'avg_overall_reorder_rate_user':0.0,'avg_day_between_orders_of_user':agv_day_between_order_user.get(i),'median_hour_of_day_user_visit':avg_time_day_user.get(i),'median_order_dow_user':median_order_dow_user.get(i),\"avg_reordered_rate_per_order_user\":avg_reordered_rate_per_order_user.get(i)},ignore_index=True)"
   ]
  },
  {
   "cell_type": "code",
   "execution_count": null,
   "metadata": {
    "id": "-lOeam8zPD6D"
   },
   "outputs": [],
   "source": [
    "user_df.to_csv('/content/gdrive/MyDrive/Colab Notebooks/Untitled folder/data/user_df.csv', index=False,header=True)"
   ]
  },
  {
   "cell_type": "code",
   "execution_count": null,
   "metadata": {
    "colab": {
     "base_uri": "https://localhost:8080/",
     "height": 214
    },
    "executionInfo": {
     "elapsed": 44209,
     "status": "ok",
     "timestamp": 1609137792594,
     "user": {
      "displayName": "suraj kumar",
      "photoUrl": "",
      "userId": "16149695880264019922"
     },
     "user_tz": -330
    },
    "id": "JloUMMHqPPjs",
    "outputId": "0ec8e4ea-ac6c-42f4-c1be-7bd578de66c7"
   },
   "outputs": [
    {
     "data": {
      "text/html": [
       "<div>\n",
       "<style scoped>\n",
       "    .dataframe tbody tr th:only-of-type {\n",
       "        vertical-align: middle;\n",
       "    }\n",
       "\n",
       "    .dataframe tbody tr th {\n",
       "        vertical-align: top;\n",
       "    }\n",
       "\n",
       "    .dataframe thead th {\n",
       "        text-align: right;\n",
       "    }\n",
       "</style>\n",
       "<table border=\"1\" class=\"dataframe\">\n",
       "  <thead>\n",
       "    <tr style=\"text-align: right;\">\n",
       "      <th></th>\n",
       "      <th>user_id</th>\n",
       "      <th>product_id</th>\n",
       "      <th>nb_times_userA_order_itemB</th>\n",
       "      <th>avg_pos_cart_userA_itemB</th>\n",
       "      <th>nb_order_userA_itemB_last5</th>\n",
       "      <th>median_day_since_prior_order_userA_itemB</th>\n",
       "      <th>streak_userA_itemB</th>\n",
       "      <th>mean_order_diff_userA_itemB</th>\n",
       "      <th>nb_order_userA_not_ordered_itemB</th>\n",
       "      <th>difference_mean_order_diff_nb_order_not_ordered_userA_itemB</th>\n",
       "      <th>order_ratio_userA_itemB</th>\n",
       "      <th>no_order_aisle_userA_itemB</th>\n",
       "      <th>avg_add_to_cart_order_aisle_userA_itemB</th>\n",
       "      <th>no_order_department_userA_itemB</th>\n",
       "      <th>avg_add_to_cart_order_department_userA_itemB</th>\n",
       "      <th>no_of_order_by_user</th>\n",
       "      <th>avg_order_size_of_user</th>\n",
       "      <th>no_of_item_ordered_user</th>\n",
       "      <th>no_of_item_reordered_user</th>\n",
       "      <th>avg_overall_reorder_rate_user</th>\n",
       "      <th>avg_day_between_orders_of_user</th>\n",
       "      <th>median_hour_of_day_user_visit</th>\n",
       "      <th>median_order_dow_user</th>\n",
       "      <th>avg_reordered_rate_per_order_user</th>\n",
       "      <th>no_of_times_ordered_itemA</th>\n",
       "      <th>no_of_times_reordered_itemA</th>\n",
       "      <th>no_of_user_ordered_itemA</th>\n",
       "      <th>avg_cart_pos_itemA</th>\n",
       "      <th>avg_order_dow_itemA</th>\n",
       "      <th>avg_order_hour_of_day_itemA</th>\n",
       "      <th>avg_days_since_prior_order_itemA</th>\n",
       "      <th>no_of_user_order_aisle_itemA</th>\n",
       "      <th>nb_order_aisle_itemA</th>\n",
       "      <th>nb_reorder_aisle_itemA</th>\n",
       "      <th>mean_add_to_cart_order_of_aisle_itemA</th>\n",
       "      <th>no_of_user_order_department_itemA</th>\n",
       "      <th>nb_order_department_itemA</th>\n",
       "      <th>nb_reorder_department_itemA</th>\n",
       "      <th>mean_add_to_cart_order_of_department_itemA</th>\n",
       "    </tr>\n",
       "  </thead>\n",
       "  <tbody>\n",
       "    <tr>\n",
       "      <th>0</th>\n",
       "      <td>1</td>\n",
       "      <td>196</td>\n",
       "      <td>10</td>\n",
       "      <td>1.400000</td>\n",
       "      <td>5</td>\n",
       "      <td>19.5</td>\n",
       "      <td>10</td>\n",
       "      <td>1.00</td>\n",
       "      <td>0</td>\n",
       "      <td>1.00</td>\n",
       "      <td>1.000000</td>\n",
       "      <td>13</td>\n",
       "      <td>1.769231</td>\n",
       "      <td>13</td>\n",
       "      <td>1.769231</td>\n",
       "      <td>10.0</td>\n",
       "      <td>5.900000</td>\n",
       "      <td>59.0</td>\n",
       "      <td>41.0</td>\n",
       "      <td>0.694915</td>\n",
       "      <td>19.500000</td>\n",
       "      <td>8.5</td>\n",
       "      <td>2.5</td>\n",
       "      <td>0.705833</td>\n",
       "      <td>35791</td>\n",
       "      <td>27791</td>\n",
       "      <td>8000</td>\n",
       "      <td>2</td>\n",
       "      <td>3</td>\n",
       "      <td>12</td>\n",
       "      <td>9</td>\n",
       "      <td>63506.0</td>\n",
       "      <td>357537.0</td>\n",
       "      <td>228406.0</td>\n",
       "      <td>6.453676</td>\n",
       "      <td>14068.0</td>\n",
       "      <td>2690129.0</td>\n",
       "      <td>1757892.0</td>\n",
       "      <td>6.976699</td>\n",
       "    </tr>\n",
       "    <tr>\n",
       "      <th>1</th>\n",
       "      <td>15</td>\n",
       "      <td>196</td>\n",
       "      <td>5</td>\n",
       "      <td>2.200000</td>\n",
       "      <td>3</td>\n",
       "      <td>7.0</td>\n",
       "      <td>2</td>\n",
       "      <td>1.75</td>\n",
       "      <td>0</td>\n",
       "      <td>1.75</td>\n",
       "      <td>0.227273</td>\n",
       "      <td>9</td>\n",
       "      <td>2.333333</td>\n",
       "      <td>20</td>\n",
       "      <td>2.400000</td>\n",
       "      <td>22.0</td>\n",
       "      <td>3.272727</td>\n",
       "      <td>72.0</td>\n",
       "      <td>59.0</td>\n",
       "      <td>0.819444</td>\n",
       "      <td>10.801653</td>\n",
       "      <td>11.0</td>\n",
       "      <td>2.0</td>\n",
       "      <td>0.832576</td>\n",
       "      <td>35791</td>\n",
       "      <td>27791</td>\n",
       "      <td>8000</td>\n",
       "      <td>2</td>\n",
       "      <td>3</td>\n",
       "      <td>12</td>\n",
       "      <td>9</td>\n",
       "      <td>63506.0</td>\n",
       "      <td>357537.0</td>\n",
       "      <td>228406.0</td>\n",
       "      <td>6.453676</td>\n",
       "      <td>14068.0</td>\n",
       "      <td>2690129.0</td>\n",
       "      <td>1757892.0</td>\n",
       "      <td>6.976699</td>\n",
       "    </tr>\n",
       "    <tr>\n",
       "      <th>2</th>\n",
       "      <td>19</td>\n",
       "      <td>196</td>\n",
       "      <td>3</td>\n",
       "      <td>6.333333</td>\n",
       "      <td>2</td>\n",
       "      <td>6.0</td>\n",
       "      <td>1</td>\n",
       "      <td>2.50</td>\n",
       "      <td>2</td>\n",
       "      <td>0.50</td>\n",
       "      <td>0.333333</td>\n",
       "      <td>6</td>\n",
       "      <td>7.833333</td>\n",
       "      <td>26</td>\n",
       "      <td>12.730769</td>\n",
       "      <td>9.0</td>\n",
       "      <td>22.666667</td>\n",
       "      <td>204.0</td>\n",
       "      <td>71.0</td>\n",
       "      <td>0.348039</td>\n",
       "      <td>9.481481</td>\n",
       "      <td>13.0</td>\n",
       "      <td>5.0</td>\n",
       "      <td>0.414799</td>\n",
       "      <td>35791</td>\n",
       "      <td>27791</td>\n",
       "      <td>8000</td>\n",
       "      <td>2</td>\n",
       "      <td>3</td>\n",
       "      <td>12</td>\n",
       "      <td>9</td>\n",
       "      <td>63506.0</td>\n",
       "      <td>357537.0</td>\n",
       "      <td>228406.0</td>\n",
       "      <td>6.453676</td>\n",
       "      <td>14068.0</td>\n",
       "      <td>2690129.0</td>\n",
       "      <td>1757892.0</td>\n",
       "      <td>6.976699</td>\n",
       "    </tr>\n",
       "    <tr>\n",
       "      <th>3</th>\n",
       "      <td>21</td>\n",
       "      <td>196</td>\n",
       "      <td>1</td>\n",
       "      <td>2.000000</td>\n",
       "      <td>0</td>\n",
       "      <td>6.0</td>\n",
       "      <td>1</td>\n",
       "      <td>0.00</td>\n",
       "      <td>23</td>\n",
       "      <td>-23.00</td>\n",
       "      <td>0.030303</td>\n",
       "      <td>6</td>\n",
       "      <td>4.000000</td>\n",
       "      <td>50</td>\n",
       "      <td>3.280000</td>\n",
       "      <td>33.0</td>\n",
       "      <td>6.212121</td>\n",
       "      <td>205.0</td>\n",
       "      <td>103.0</td>\n",
       "      <td>0.502439</td>\n",
       "      <td>9.922865</td>\n",
       "      <td>10.0</td>\n",
       "      <td>1.0</td>\n",
       "      <td>0.554367</td>\n",
       "      <td>35791</td>\n",
       "      <td>27791</td>\n",
       "      <td>8000</td>\n",
       "      <td>2</td>\n",
       "      <td>3</td>\n",
       "      <td>12</td>\n",
       "      <td>9</td>\n",
       "      <td>63506.0</td>\n",
       "      <td>357537.0</td>\n",
       "      <td>228406.0</td>\n",
       "      <td>6.453676</td>\n",
       "      <td>14068.0</td>\n",
       "      <td>2690129.0</td>\n",
       "      <td>1757892.0</td>\n",
       "      <td>6.976699</td>\n",
       "    </tr>\n",
       "    <tr>\n",
       "      <th>4</th>\n",
       "      <td>31</td>\n",
       "      <td>196</td>\n",
       "      <td>2</td>\n",
       "      <td>15.500000</td>\n",
       "      <td>1</td>\n",
       "      <td>7.5</td>\n",
       "      <td>1</td>\n",
       "      <td>7.00</td>\n",
       "      <td>3</td>\n",
       "      <td>4.00</td>\n",
       "      <td>0.100000</td>\n",
       "      <td>27</td>\n",
       "      <td>15.222222</td>\n",
       "      <td>76</td>\n",
       "      <td>11.407895</td>\n",
       "      <td>20.0</td>\n",
       "      <td>14.950000</td>\n",
       "      <td>299.0</td>\n",
       "      <td>109.0</td>\n",
       "      <td>0.364548</td>\n",
       "      <td>4.927500</td>\n",
       "      <td>11.0</td>\n",
       "      <td>2.5</td>\n",
       "      <td>0.281645</td>\n",
       "      <td>35791</td>\n",
       "      <td>27791</td>\n",
       "      <td>8000</td>\n",
       "      <td>2</td>\n",
       "      <td>3</td>\n",
       "      <td>12</td>\n",
       "      <td>9</td>\n",
       "      <td>63506.0</td>\n",
       "      <td>357537.0</td>\n",
       "      <td>228406.0</td>\n",
       "      <td>6.453676</td>\n",
       "      <td>14068.0</td>\n",
       "      <td>2690129.0</td>\n",
       "      <td>1757892.0</td>\n",
       "      <td>6.976699</td>\n",
       "    </tr>\n",
       "  </tbody>\n",
       "</table>\n",
       "</div>"
      ],
      "text/plain": [
       "   user_id  ...  mean_add_to_cart_order_of_department_itemA\n",
       "0        1  ...                                    6.976699\n",
       "1       15  ...                                    6.976699\n",
       "2       19  ...                                    6.976699\n",
       "3       21  ...                                    6.976699\n",
       "4       31  ...                                    6.976699\n",
       "\n",
       "[5 rows x 39 columns]"
      ]
     },
     "execution_count": 8,
     "metadata": {
      "tags": []
     },
     "output_type": "execute_result"
    }
   ],
   "source": [
    "#here i merged all user,product,user and product releated feature to one data frame\n",
    "user_df=pd.read_csv('/content/gdrive/MyDrive/Colab Notebooks/Untitled folder/data/user_df.csv')\n",
    "product_df=pd.read_csv('/content/gdrive/MyDrive/Colab Notebooks/Untitled folder/data/product_df.csv')\n",
    "final_df=pd.read_csv('/content/gdrive/MyDrive/Colab Notebooks/Untitled folder/data/final_df.csv')\n",
    "preprocessed=pd.merge(final_df,user_df,on='user_id',how='inner')\n",
    "preprocessed=pd.merge(preprocessed,product_df,on='product_id',how='inner')\n",
    "preprocessed.head()"
   ]
  },
  {
   "cell_type": "code",
   "execution_count": null,
   "metadata": {
    "id": "-8_v4DspSCXO"
   },
   "outputs": [],
   "source": [
    "preprocessed.to_csv('/content/gdrive/MyDrive/Colab Notebooks/Untitled folder/data/preprocessed.csv', index=False,header=True)"
   ]
  },
  {
   "cell_type": "code",
   "execution_count": null,
   "metadata": {
    "id": "pRcwJCWYFIee"
   },
   "outputs": [],
   "source": [
    "preprocessed_data=pd.read_csv('/content/gdrive/MyDrive/Colab Notebooks/Untitled folder/data/preprocessed.csv')"
   ]
  },
  {
   "cell_type": "code",
   "execution_count": null,
   "metadata": {
    "id": "md65fXLqmvfR"
   },
   "outputs": [],
   "source": [
    "def get_data(flag='train'):\n",
    "  '''this function will get the current features releted to next order and all history features of that user if the user belongs to train data then get the output variable i.e reordered'''\n",
    "  preprocessed_data=pd.read_csv('/content/gdrive/MyDrive/Colab Notebooks/Untitled folder/data/preprocessed.csv')\n",
    "  orders = pd.read_csv('orders.csv')\n",
    "  temp=orders[orders['eval_set']==flag][['order_id','user_id','order_dow','order_hour_of_day','days_since_prior_order']]  \n",
    "  preprocessed_data=pd.merge(preprocessed_data,temp,on='user_id',how='inner')\n",
    "  if flag=='train':\n",
    "    train_data = pd.read_csv('order_products__train.csv')\n",
    "    temp2=pd.merge(orders,train_data,on='order_id',how='inner')[['user_id','product_id','reordered']]\n",
    "    preprocessed_data=pd.merge(preprocessed_data,temp2,on=['user_id','product_id'],how='left')\n",
    "    for i in range(len(preprocessed_data)):\n",
    "      if str(preprocessed_data['reordered'][i])=='nan':\n",
    "        preprocessed_data['reordered'].values[i]=0\n",
    "  preprocessed_data=preprocessed_data.drop(['order_id'], axis=1)\n",
    "  return preprocessed_data"
   ]
  },
  {
   "cell_type": "code",
   "execution_count": null,
   "metadata": {
    "id": "7D_o2HzmGhcS"
   },
   "outputs": [],
   "source": [
    "import pandas as pd\n",
    "train_data=get_data(flag='train')\n",
    "test_data=get_data(flag='test')\n"
   ]
  },
  {
   "cell_type": "code",
   "execution_count": null,
   "metadata": {
    "colab": {
     "base_uri": "https://localhost:8080/"
    },
    "executionInfo": {
     "elapsed": 2035,
     "status": "ok",
     "timestamp": 1609328191722,
     "user": {
      "displayName": "suraj kumar",
      "photoUrl": "",
      "userId": "16149695880264019922"
     },
     "user_tz": -330
    },
    "id": "Kh_SAjFAZrVt",
    "outputId": "7b2e6154-771e-4fc5-afd0-b3d66a9fd26d"
   },
   "outputs": [
    {
     "data": {
      "text/plain": [
       "((8474661, 43), (4833292, 42))"
      ]
     },
     "execution_count": 6,
     "metadata": {
      "tags": []
     },
     "output_type": "execute_result"
    }
   ],
   "source": [
    "train_data.shape,test_data.shape"
   ]
  },
  {
   "cell_type": "code",
   "execution_count": null,
   "metadata": {
    "id": "esTxtEJocdc8"
   },
   "outputs": [],
   "source": []
  }
 ],
 "metadata": {
  "accelerator": "GPU",
  "colab": {
   "collapsed_sections": [],
   "name": "final_feature_engg (1).ipynb",
   "provenance": []
  },
  "kernelspec": {
   "display_name": "Python 3",
   "language": "python",
   "name": "python3"
  },
  "language_info": {
   "codemirror_mode": {
    "name": "ipython",
    "version": 3
   },
   "file_extension": ".py",
   "mimetype": "text/x-python",
   "name": "python",
   "nbconvert_exporter": "python",
   "pygments_lexer": "ipython3",
   "version": "3.6.5"
  }
 },
 "nbformat": 4,
 "nbformat_minor": 1
}
